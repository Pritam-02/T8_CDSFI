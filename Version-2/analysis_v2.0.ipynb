{
 "cells": [
  {
   "cell_type": "code",
   "execution_count": 1,
   "metadata": {},
   "outputs": [],
   "source": [
    "import pandas as pd\n",
    "from sklearn.model_selection import StratifiedShuffleSplit\n",
    "from sklearn.metrics import classification_report,confusion_matrix\n",
    "from sklearn.svm import SVC\n",
    "from sklearn.neural_network import MLPClassifier\n",
    "from sklearn.naive_bayes import GaussianNB\n",
    "from sklearn.naive_bayes import BernoulliNB\n",
    "from sklearn.linear_model import LogisticRegression\n",
    "from sklearn.linear_model import LinearRegression\n",
    "from sklearn.ensemble import RandomForestClassifier \n",
    "from sklearn.tree import DecisionTreeClassifier \n",
    "from sklearn.neighbors import KNeighborsClassifier\n",
    "from sklearn import metrics\n",
    "from sklearn.metrics import accuracy_score, confusion_matrix, roc_auc_score, roc_curve\n",
    "import numpy as np\n",
    "import matplotlib.pyplot as plt\n",
    "from sklearn.metrics import roc_auc_score\n",
    "import pickle"
   ]
  },
  {
   "cell_type": "code",
   "execution_count": 2,
   "metadata": {},
   "outputs": [],
   "source": [
    "data = pd.read_csv(\"heart_dataset_2.csv\")"
   ]
  },
  {
   "cell_type": "code",
   "execution_count": 3,
   "metadata": {},
   "outputs": [
    {
     "data": {
      "text/html": [
       "<div>\n",
       "<style scoped>\n",
       "    .dataframe tbody tr th:only-of-type {\n",
       "        vertical-align: middle;\n",
       "    }\n",
       "\n",
       "    .dataframe tbody tr th {\n",
       "        vertical-align: top;\n",
       "    }\n",
       "\n",
       "    .dataframe thead th {\n",
       "        text-align: right;\n",
       "    }\n",
       "</style>\n",
       "<table border=\"1\" class=\"dataframe\">\n",
       "  <thead>\n",
       "    <tr style=\"text-align: right;\">\n",
       "      <th></th>\n",
       "      <th>age</th>\n",
       "      <th>sex</th>\n",
       "      <th>cp</th>\n",
       "      <th>trestbps</th>\n",
       "      <th>chol</th>\n",
       "      <th>fbs</th>\n",
       "      <th>restecg</th>\n",
       "      <th>thalach</th>\n",
       "      <th>exang</th>\n",
       "      <th>oldpeak</th>\n",
       "      <th>slope</th>\n",
       "      <th>ca</th>\n",
       "      <th>thal</th>\n",
       "      <th>target</th>\n",
       "    </tr>\n",
       "  </thead>\n",
       "  <tbody>\n",
       "    <tr>\n",
       "      <th>0</th>\n",
       "      <td>63</td>\n",
       "      <td>1</td>\n",
       "      <td>3</td>\n",
       "      <td>145</td>\n",
       "      <td>233</td>\n",
       "      <td>1</td>\n",
       "      <td>0</td>\n",
       "      <td>150</td>\n",
       "      <td>0</td>\n",
       "      <td>2.3</td>\n",
       "      <td>0</td>\n",
       "      <td>0</td>\n",
       "      <td>1</td>\n",
       "      <td>1</td>\n",
       "    </tr>\n",
       "    <tr>\n",
       "      <th>1</th>\n",
       "      <td>37</td>\n",
       "      <td>1</td>\n",
       "      <td>2</td>\n",
       "      <td>130</td>\n",
       "      <td>250</td>\n",
       "      <td>0</td>\n",
       "      <td>1</td>\n",
       "      <td>187</td>\n",
       "      <td>0</td>\n",
       "      <td>3.5</td>\n",
       "      <td>0</td>\n",
       "      <td>0</td>\n",
       "      <td>2</td>\n",
       "      <td>1</td>\n",
       "    </tr>\n",
       "    <tr>\n",
       "      <th>2</th>\n",
       "      <td>41</td>\n",
       "      <td>0</td>\n",
       "      <td>1</td>\n",
       "      <td>130</td>\n",
       "      <td>204</td>\n",
       "      <td>0</td>\n",
       "      <td>0</td>\n",
       "      <td>172</td>\n",
       "      <td>0</td>\n",
       "      <td>1.4</td>\n",
       "      <td>2</td>\n",
       "      <td>0</td>\n",
       "      <td>2</td>\n",
       "      <td>1</td>\n",
       "    </tr>\n",
       "    <tr>\n",
       "      <th>3</th>\n",
       "      <td>56</td>\n",
       "      <td>1</td>\n",
       "      <td>1</td>\n",
       "      <td>120</td>\n",
       "      <td>236</td>\n",
       "      <td>0</td>\n",
       "      <td>1</td>\n",
       "      <td>178</td>\n",
       "      <td>0</td>\n",
       "      <td>0.8</td>\n",
       "      <td>2</td>\n",
       "      <td>0</td>\n",
       "      <td>2</td>\n",
       "      <td>1</td>\n",
       "    </tr>\n",
       "    <tr>\n",
       "      <th>4</th>\n",
       "      <td>57</td>\n",
       "      <td>0</td>\n",
       "      <td>0</td>\n",
       "      <td>120</td>\n",
       "      <td>354</td>\n",
       "      <td>0</td>\n",
       "      <td>1</td>\n",
       "      <td>163</td>\n",
       "      <td>1</td>\n",
       "      <td>0.6</td>\n",
       "      <td>2</td>\n",
       "      <td>0</td>\n",
       "      <td>2</td>\n",
       "      <td>1</td>\n",
       "    </tr>\n",
       "  </tbody>\n",
       "</table>\n",
       "</div>"
      ],
      "text/plain": [
       "   age  sex  cp  trestbps  chol  fbs  restecg  thalach  exang  oldpeak  slope  \\\n",
       "0   63    1   3       145   233    1        0      150      0      2.3      0   \n",
       "1   37    1   2       130   250    0        1      187      0      3.5      0   \n",
       "2   41    0   1       130   204    0        0      172      0      1.4      2   \n",
       "3   56    1   1       120   236    0        1      178      0      0.8      2   \n",
       "4   57    0   0       120   354    0        1      163      1      0.6      2   \n",
       "\n",
       "   ca  thal  target  \n",
       "0   0     1       1  \n",
       "1   0     2       1  \n",
       "2   0     2       1  \n",
       "3   0     2       1  \n",
       "4   0     2       1  "
      ]
     },
     "execution_count": 3,
     "metadata": {},
     "output_type": "execute_result"
    }
   ],
   "source": [
    "data.head()"
   ]
  },
  {
   "cell_type": "markdown",
   "metadata": {},
   "source": [
    "### Dataset Splitting"
   ]
  },
  {
   "cell_type": "code",
   "execution_count": 4,
   "metadata": {},
   "outputs": [],
   "source": [
    "split_data = StratifiedShuffleSplit(n_splits=1, test_size=0.2, random_state=32)\n",
    "for train_index, test_index in split_data.split(data, data['target']):\n",
    "    train_set = data.loc[train_index]\n",
    "    test_set = data.loc[test_index]"
   ]
  },
  {
   "cell_type": "code",
   "execution_count": 5,
   "metadata": {},
   "outputs": [],
   "source": [
    "#splitting for train set data\n",
    "Ftrs_train = train_set.drop(columns='target', axis=1)\n",
    "Trgt_train = train_set['target']\n",
    "\n",
    "#splitting for test set data\n",
    "Ftrs_test = test_set.drop(columns='target', axis=1)\n",
    "Trgt_test = test_set['target']"
   ]
  },
  {
   "cell_type": "code",
   "execution_count": 6,
   "metadata": {},
   "outputs": [
    {
     "data": {
      "text/plain": [
       "target\n",
       "1    132\n",
       "0    110\n",
       "Name: count, dtype: int64"
      ]
     },
     "execution_count": 6,
     "metadata": {},
     "output_type": "execute_result"
    }
   ],
   "source": [
    "train_set['target'].value_counts() #distribution of 0 and 1 of target value in train set"
   ]
  },
  {
   "cell_type": "code",
   "execution_count": 7,
   "metadata": {},
   "outputs": [
    {
     "data": {
      "text/plain": [
       "target\n",
       "1    33\n",
       "0    28\n",
       "Name: count, dtype: int64"
      ]
     },
     "execution_count": 7,
     "metadata": {},
     "output_type": "execute_result"
    }
   ],
   "source": [
    "test_set['target'].value_counts() #distribution of 0 and 1 of target value in train set"
   ]
  },
  {
   "cell_type": "markdown",
   "metadata": {},
   "source": [
    "### Training on different models"
   ]
  },
  {
   "cell_type": "markdown",
   "metadata": {},
   "source": [
    "#### 1. Linear Regression"
   ]
  },
  {
   "cell_type": "code",
   "execution_count": 8,
   "metadata": {},
   "outputs": [],
   "source": [
    "model_linreg = LinearRegression()\n",
    "model_linreg.fit(Ftrs_train,Trgt_train)\n",
    "\n",
    "#Dump trained model\n",
    "linreg_file = 'trained_linreg.sav'\n",
    "pickle.dump(model_linreg, open(linreg_file, 'wb'))"
   ]
  },
  {
   "cell_type": "markdown",
   "metadata": {},
   "source": [
    "#### 2. Logistic Regression"
   ]
  },
  {
   "cell_type": "code",
   "execution_count": 9,
   "metadata": {},
   "outputs": [
    {
     "name": "stderr",
     "output_type": "stream",
     "text": [
      "c:\\Users\\Swapnil\\AppData\\Local\\Programs\\Python\\Python311\\Lib\\site-packages\\sklearn\\linear_model\\_logistic.py:460: ConvergenceWarning: lbfgs failed to converge (status=1):\n",
      "STOP: TOTAL NO. of ITERATIONS REACHED LIMIT.\n",
      "\n",
      "Increase the number of iterations (max_iter) or scale the data as shown in:\n",
      "    https://scikit-learn.org/stable/modules/preprocessing.html\n",
      "Please also refer to the documentation for alternative solver options:\n",
      "    https://scikit-learn.org/stable/modules/linear_model.html#logistic-regression\n",
      "  n_iter_i = _check_optimize_result(\n"
     ]
    }
   ],
   "source": [
    "model_logreg = LogisticRegression()\n",
    "model_logreg.fit(Ftrs_train,Trgt_train)\n",
    "\n",
    "#Dump trained model\n",
    "logreg_file = 'trained_logreg.sav'\n",
    "pickle.dump(model_logreg, open(logreg_file, 'wb'))"
   ]
  },
  {
   "cell_type": "markdown",
   "metadata": {},
   "source": [
    "#### 3. Support Vector Machine(SVM)"
   ]
  },
  {
   "cell_type": "code",
   "execution_count": 10,
   "metadata": {},
   "outputs": [],
   "source": [
    "model_svm=SVC(kernel='linear',probability=True)\n",
    "model_svm.fit(Ftrs_train,Trgt_train)\n",
    "\n",
    "#Dump trained model\n",
    "svm_file = 'trained_svm.sav'\n",
    "pickle.dump(model_svm, open(svm_file, 'wb'))"
   ]
  },
  {
   "cell_type": "markdown",
   "metadata": {},
   "source": [
    "#### 4. Gaussian Naive Bayes"
   ]
  },
  {
   "cell_type": "code",
   "execution_count": 11,
   "metadata": {},
   "outputs": [],
   "source": [
    "model_gnb = GaussianNB()\n",
    "model_gnb.fit(Ftrs_train, Trgt_train)\n",
    "\n",
    "#Dump trained model\n",
    "gnb_file = 'trained_gnb.sav'\n",
    "pickle.dump(model_gnb, open(gnb_file, 'wb'))"
   ]
  },
  {
   "cell_type": "markdown",
   "metadata": {},
   "source": [
    "#### 5. Bernoulli Naive Bayes"
   ]
  },
  {
   "cell_type": "code",
   "execution_count": 12,
   "metadata": {},
   "outputs": [],
   "source": [
    "model_bnb = BernoulliNB()\n",
    "model_bnb.fit(Ftrs_train, Trgt_train)\n",
    "\n",
    "#Dump trained model\n",
    "bnb_file = 'trained_bnb.sav'\n",
    "pickle.dump(model_bnb, open(bnb_file, 'wb'))"
   ]
  },
  {
   "cell_type": "markdown",
   "metadata": {},
   "source": [
    "#### 6. Decision Tree"
   ]
  },
  {
   "cell_type": "code",
   "execution_count": 13,
   "metadata": {},
   "outputs": [],
   "source": [
    "model_dtc = DecisionTreeClassifier()\n",
    "model_dtc.fit(Ftrs_train, Trgt_train)\n",
    "\n",
    "#Dump trained model\n",
    "dtc_file = 'trained_dtc.sav'\n",
    "pickle.dump(model_dtc, open(dtc_file, 'wb'))"
   ]
  },
  {
   "cell_type": "markdown",
   "metadata": {},
   "source": [
    "#### 7. Random Forest Classifier"
   ]
  },
  {
   "cell_type": "code",
   "execution_count": 14,
   "metadata": {},
   "outputs": [],
   "source": [
    "model_rfc = RandomForestClassifier (n_estimators= 243, criterion ='entropy', random_state=0)\n",
    "model_rfc.fit(Ftrs_train,Trgt_train)\n",
    "\n",
    "#Dump trained model\n",
    "rfc_file = 'trained_rfc.sav'\n",
    "pickle.dump(model_rfc, open(rfc_file, 'wb'))"
   ]
  },
  {
   "cell_type": "markdown",
   "metadata": {},
   "source": [
    "#### 8. K-Nearest Neighbors"
   ]
  },
  {
   "cell_type": "code",
   "execution_count": 15,
   "metadata": {},
   "outputs": [],
   "source": [
    "model_knn = KNeighborsClassifier(n_neighbors=5, algorithm=\"kd_tree\")\n",
    "model_knn.fit(Ftrs_train,Trgt_train)\n",
    "\n",
    "#Dump trained model\n",
    "knn_file = 'trained_knn.sav'\n",
    "pickle.dump(model_knn, open(knn_file, 'wb'))"
   ]
  },
  {
   "cell_type": "markdown",
   "metadata": {},
   "source": [
    "#### 9. MLP Neural Network"
   ]
  },
  {
   "cell_type": "code",
   "execution_count": 46,
   "metadata": {},
   "outputs": [
    {
     "data": {
      "text/plain": [
       "0.8688524590163934"
      ]
     },
     "execution_count": 46,
     "metadata": {},
     "output_type": "execute_result"
    }
   ],
   "source": [
    "model_mlp = MLPClassifier(hidden_layer_sizes=(10,10,10), max_iter=1000)\n",
    "model_mlp.fit(Ftrs_train,Trgt_train.values.ravel())\n",
    "\n",
    "#Dump trained model\n",
    "mlp_file = 'trained_mlp.sav'\n",
    "pickle.dump(model_mlp, open(mlp_file, 'wb'))\n",
    "\n",
    "model_mlp.score(Ftrs_test,Trgt_test)"
   ]
  },
  {
   "cell_type": "markdown",
   "metadata": {},
   "source": [
    "### Loding saved models"
   ]
  },
  {
   "cell_type": "code",
   "execution_count": 17,
   "metadata": {},
   "outputs": [],
   "source": [
    "model_linreg=pickle.load(open('trained_linreg.sav', 'rb'))\n",
    "model_logreg=pickle.load(open('trained_logreg.sav', 'rb'))\n",
    "model_svm=pickle.load(open('trained_svm.sav', 'rb'))\n",
    "model_gnb=pickle.load(open('trained_gnb.sav', 'rb'))\n",
    "model_bnb=pickle.load(open('trained_bnb.sav', 'rb'))\n",
    "model_dtc=pickle.load(open('trained_dtc.sav', 'rb'))\n",
    "model_rfc=pickle.load(open('trained_rfc.sav', 'rb'))\n",
    "model_knn=pickle.load(open('trained_knn.sav', 'rb'))\n",
    "model_mlp=pickle.load(open('trained_mlp.sav', 'rb'))"
   ]
  },
  {
   "cell_type": "markdown",
   "metadata": {},
   "source": [
    "### Performance analysis of the models"
   ]
  },
  {
   "cell_type": "markdown",
   "metadata": {},
   "source": [
    "#### 1. Linear Regression"
   ]
  },
  {
   "cell_type": "code",
   "execution_count": 18,
   "metadata": {},
   "outputs": [
    {
     "name": "stdout",
     "output_type": "stream",
     "text": [
      "Accuracy Score:  0.48427584133545665\n"
     ]
    }
   ],
   "source": [
    "print(\"Accuracy Score: \",model_linreg.score(Ftrs_test,Trgt_test))"
   ]
  },
  {
   "cell_type": "markdown",
   "metadata": {},
   "source": [
    "#### 2. Logistic Regression"
   ]
  },
  {
   "cell_type": "code",
   "execution_count": 19,
   "metadata": {},
   "outputs": [
    {
     "name": "stdout",
     "output_type": "stream",
     "text": [
      "Classification Report:\n",
      "              precision    recall  f1-score   support\n",
      "\n",
      "           0       0.85      0.79      0.81        28\n",
      "           1       0.83      0.88      0.85        33\n",
      "\n",
      "    accuracy                           0.84        61\n",
      "   macro avg       0.84      0.83      0.83        61\n",
      "weighted avg       0.84      0.84      0.84        61\n",
      "\n",
      "Accuracy Score:  0.8360655737704918\n",
      "ROC-AUC Score:  0.8939393939393939\n",
      "PR-AUC Score:  0.8833859185511166\n"
     ]
    }
   ],
   "source": [
    "logreg_pred=model_logreg.predict(Ftrs_test)\n",
    "print(\"Classification Report:\")\n",
    "print(classification_report(Trgt_test,logreg_pred))\n",
    "\n",
    "print(\"Accuracy Score: \",model_logreg.score(Ftrs_test,Trgt_test))\n",
    "\n",
    "print(\"ROC-AUC Score: \",roc_auc_score(Trgt_test, model_logreg.predict_proba(Ftrs_test)[:, 1]))\n",
    "\n",
    "precision, recall, thresholds = metrics.precision_recall_curve(Trgt_test, model_logreg.predict_proba(Ftrs_test)[:, 1])\n",
    "auc = metrics.auc(recall, precision)\n",
    "print(\"PR-AUC Score: \", auc)"
   ]
  },
  {
   "cell_type": "markdown",
   "metadata": {},
   "source": [
    "#### 3. Support Vector Machine(SVM)"
   ]
  },
  {
   "cell_type": "code",
   "execution_count": 20,
   "metadata": {},
   "outputs": [
    {
     "name": "stdout",
     "output_type": "stream",
     "text": [
      "Classification Report:\n",
      "              precision    recall  f1-score   support\n",
      "\n",
      "           0       0.92      0.79      0.85        28\n",
      "           1       0.84      0.94      0.89        33\n",
      "\n",
      "    accuracy                           0.87        61\n",
      "   macro avg       0.88      0.86      0.87        61\n",
      "weighted avg       0.87      0.87      0.87        61\n",
      "\n",
      "Accuracy Score:  0.8688524590163934\n",
      "ROC-AUC Score:  0.8885281385281385\n",
      "PR-AUC Score:  0.8729441700739273\n"
     ]
    }
   ],
   "source": [
    "svm_pred=model_svm.predict(Ftrs_test)\n",
    "print(\"Classification Report:\")\n",
    "print(classification_report(Trgt_test,svm_pred))\n",
    "\n",
    "print(\"Accuracy Score: \",model_svm.score(Ftrs_test,Trgt_test))\n",
    "\n",
    "print(\"ROC-AUC Score: \",roc_auc_score(Trgt_test, model_svm.predict_proba(Ftrs_test)[:, 1]))\n",
    "\n",
    "precision, recall, thresholds = metrics.precision_recall_curve(Trgt_test, model_svm.predict_proba(Ftrs_test)[:, 1])\n",
    "auc = metrics.auc(recall, precision)\n",
    "print(\"PR-AUC Score: \", auc)"
   ]
  },
  {
   "cell_type": "markdown",
   "metadata": {},
   "source": [
    "#### 4. Gaussian Naive Bayes"
   ]
  },
  {
   "cell_type": "code",
   "execution_count": 21,
   "metadata": {},
   "outputs": [
    {
     "name": "stdout",
     "output_type": "stream",
     "text": [
      "Classification Report:\n",
      "              precision    recall  f1-score   support\n",
      "\n",
      "           0       0.92      0.82      0.87        28\n",
      "           1       0.86      0.94      0.90        33\n",
      "\n",
      "    accuracy                           0.89        61\n",
      "   macro avg       0.89      0.88      0.88        61\n",
      "weighted avg       0.89      0.89      0.88        61\n",
      "\n",
      "Accuracy Score:  0.8852459016393442\n",
      "ROC-AUC Score:  0.8896103896103895\n",
      "PR-AUC Score:  0.8842854295999484\n"
     ]
    }
   ],
   "source": [
    "gnb_pred=model_gnb.predict(Ftrs_test)\n",
    "print(\"Classification Report:\")\n",
    "print(classification_report(Trgt_test,gnb_pred))\n",
    "\n",
    "print(\"Accuracy Score: \",model_gnb.score(Ftrs_test,Trgt_test))\n",
    "\n",
    "print(\"ROC-AUC Score: \",roc_auc_score(Trgt_test, model_gnb.predict_proba(Ftrs_test)[:, 1]))\n",
    "\n",
    "precision, recall, thresholds = metrics.precision_recall_curve(Trgt_test, model_gnb.predict_proba(Ftrs_test)[:, 1])\n",
    "auc = metrics.auc(recall, precision)\n",
    "print(\"PR-AUC Score: \", auc)"
   ]
  },
  {
   "cell_type": "markdown",
   "metadata": {},
   "source": [
    "#### 5. Bernoulli Naive Bayes"
   ]
  },
  {
   "cell_type": "code",
   "execution_count": 22,
   "metadata": {},
   "outputs": [
    {
     "name": "stdout",
     "output_type": "stream",
     "text": [
      "Classification Report:\n",
      "              precision    recall  f1-score   support\n",
      "\n",
      "           0       0.77      0.86      0.81        28\n",
      "           1       0.87      0.79      0.83        33\n",
      "\n",
      "    accuracy                           0.82        61\n",
      "   macro avg       0.82      0.82      0.82        61\n",
      "weighted avg       0.82      0.82      0.82        61\n",
      "\n",
      "Accuracy Score:  0.819672131147541\n",
      "ROC-AUC Score:  0.8906926406926408\n",
      "PR-AUC Score:  0.8749713990579435\n"
     ]
    }
   ],
   "source": [
    "bnb_pred=model_bnb.predict(Ftrs_test)\n",
    "print(\"Classification Report:\")\n",
    "print(classification_report(Trgt_test,bnb_pred))\n",
    "\n",
    "print(\"Accuracy Score: \",model_bnb.score(Ftrs_test,Trgt_test))\n",
    "\n",
    "print(\"ROC-AUC Score: \",roc_auc_score(Trgt_test, model_bnb.predict_proba(Ftrs_test)[:, 1]))\n",
    "\n",
    "precision, recall, thresholds = metrics.precision_recall_curve(Trgt_test, model_bnb.predict_proba(Ftrs_test)[:, 1])\n",
    "auc = metrics.auc(recall, precision)\n",
    "print(\"PR-AUC Score: \", auc)"
   ]
  },
  {
   "cell_type": "markdown",
   "metadata": {},
   "source": [
    "#### 6. Decision Tree"
   ]
  },
  {
   "cell_type": "code",
   "execution_count": 23,
   "metadata": {},
   "outputs": [
    {
     "name": "stdout",
     "output_type": "stream",
     "text": [
      "Classification Report:\n",
      "              precision    recall  f1-score   support\n",
      "\n",
      "           0       0.81      0.79      0.80        28\n",
      "           1       0.82      0.85      0.84        33\n",
      "\n",
      "    accuracy                           0.82        61\n",
      "   macro avg       0.82      0.82      0.82        61\n",
      "weighted avg       0.82      0.82      0.82        61\n",
      "\n",
      "Accuracy Score:  0.819672131147541\n",
      "ROC-AUC Score:  0.8170995670995672\n",
      "PR-AUC Score:  0.8769907366821543\n"
     ]
    }
   ],
   "source": [
    "dtc_pred=model_dtc.predict(Ftrs_test)\n",
    "print(\"Classification Report:\")\n",
    "print(classification_report(Trgt_test,dtc_pred))\n",
    "\n",
    "print(\"Accuracy Score: \",model_dtc.score(Ftrs_test,Trgt_test))\n",
    "\n",
    "print(\"ROC-AUC Score: \",roc_auc_score(Trgt_test, model_dtc.predict_proba(Ftrs_test)[:, 1]))\n",
    "\n",
    "precision, recall, thresholds = metrics.precision_recall_curve(Trgt_test, model_dtc.predict_proba(Ftrs_test)[:, 1])\n",
    "auc = metrics.auc(recall, precision)\n",
    "print(\"PR-AUC Score: \", auc)"
   ]
  },
  {
   "cell_type": "markdown",
   "metadata": {},
   "source": [
    "#### 7. Random Forest"
   ]
  },
  {
   "cell_type": "code",
   "execution_count": 24,
   "metadata": {},
   "outputs": [
    {
     "name": "stdout",
     "output_type": "stream",
     "text": [
      "Classification Report:\n",
      "              precision    recall  f1-score   support\n",
      "\n",
      "           0       0.88      0.75      0.81        28\n",
      "           1       0.81      0.91      0.86        33\n",
      "\n",
      "    accuracy                           0.84        61\n",
      "   macro avg       0.84      0.83      0.83        61\n",
      "weighted avg       0.84      0.84      0.83        61\n",
      "\n",
      "Accuracy Score:  0.8360655737704918\n",
      "ROC-AUC Score:  0.9150432900432901\n",
      "PR-AUC Score:  0.9162214129452435\n"
     ]
    }
   ],
   "source": [
    "rfc_pred=model_rfc.predict(Ftrs_test)\n",
    "print(\"Classification Report:\")\n",
    "print(classification_report(Trgt_test,rfc_pred))\n",
    "\n",
    "print(\"Accuracy Score: \",model_rfc.score(Ftrs_test,Trgt_test))\n",
    "\n",
    "print(\"ROC-AUC Score: \",roc_auc_score(Trgt_test, model_rfc.predict_proba(Ftrs_test)[:, 1]))\n",
    "\n",
    "precision, recall, thresholds = metrics.precision_recall_curve(Trgt_test, model_rfc.predict_proba(Ftrs_test)[:, 1])\n",
    "auc = metrics.auc(recall, precision)\n",
    "print(\"PR-AUC Score: \", auc)"
   ]
  },
  {
   "cell_type": "markdown",
   "metadata": {},
   "source": [
    "#### 8. K-Nearest Neighbors"
   ]
  },
  {
   "cell_type": "code",
   "execution_count": 25,
   "metadata": {},
   "outputs": [
    {
     "name": "stdout",
     "output_type": "stream",
     "text": [
      "Classification Report:\n",
      "              precision    recall  f1-score   support\n",
      "\n",
      "           0       0.65      0.54      0.59        28\n",
      "           1       0.66      0.76      0.70        33\n",
      "\n",
      "    accuracy                           0.66        61\n",
      "   macro avg       0.66      0.65      0.65        61\n",
      "weighted avg       0.66      0.66      0.65        61\n",
      "\n",
      "Accuracy Score:  0.6557377049180327\n",
      "ROC-AUC Score:  0.6996753246753247\n",
      "PR-AUC Score:  0.7642027084489171\n"
     ]
    }
   ],
   "source": [
    "knn_pred=model_knn.predict(Ftrs_test)\n",
    "print(\"Classification Report:\")\n",
    "print(classification_report(Trgt_test,knn_pred))\n",
    "\n",
    "print(\"Accuracy Score: \",model_knn.score(Ftrs_test,Trgt_test))\n",
    "\n",
    "print(\"ROC-AUC Score: \",roc_auc_score(Trgt_test, model_knn.predict_proba(Ftrs_test)[:, 1]))\n",
    "\n",
    "precision, recall, thresholds = metrics.precision_recall_curve(Trgt_test, model_knn.predict_proba(Ftrs_test)[:, 1])\n",
    "auc = metrics.auc(recall, precision)\n",
    "print(\"PR-AUC Score: \", auc)"
   ]
  },
  {
   "cell_type": "markdown",
   "metadata": {},
   "source": [
    "#### 9. MLP- Neural Network"
   ]
  },
  {
   "cell_type": "code",
   "execution_count": 47,
   "metadata": {},
   "outputs": [
    {
     "name": "stdout",
     "output_type": "stream",
     "text": [
      "Classification Report:\n",
      "              precision    recall  f1-score   support\n",
      "\n",
      "           0       0.88      0.82      0.85        28\n",
      "           1       0.86      0.91      0.88        33\n",
      "\n",
      "    accuracy                           0.87        61\n",
      "   macro avg       0.87      0.87      0.87        61\n",
      "weighted avg       0.87      0.87      0.87        61\n",
      "\n",
      "Accuracy Score:  0.8688524590163934\n",
      "ROC-AUC Score:  0.8701298701298701\n",
      "PR-AUC Score:  0.8337020154890697\n"
     ]
    }
   ],
   "source": [
    "mlp_pred=model_mlp.predict(Ftrs_test)\n",
    "print(\"Classification Report:\")\n",
    "print(classification_report(Trgt_test,mlp_pred))\n",
    "\n",
    "print(\"Accuracy Score: \",model_mlp.score(Ftrs_test,Trgt_test))\n",
    "\n",
    "print(\"ROC-AUC Score: \",roc_auc_score(Trgt_test, model_mlp.predict_proba(Ftrs_test)[:, 1]))\n",
    "\n",
    "precision, recall, thresholds = metrics.precision_recall_curve(Trgt_test, model_mlp.predict_proba(Ftrs_test)[:, 1])\n",
    "auc = metrics.auc(recall, precision)\n",
    "print(\"PR-AUC Score: \", auc)"
   ]
  },
  {
   "cell_type": "markdown",
   "metadata": {},
   "source": [
    "##### BEST PERFORMING MODELS (Top 5):\n",
    "\n",
    "``` \n",
    "Rank       Name                       Variable Name\n",
    "----------------------------------------------------\n",
    "1.    Gaussian Naive Bayes             model_gnb\n",
    "2.    Support Vector Machine           model_svm\n",
    "3.    MLP Neural Network               model_mlp \n",
    "4.    Random Forest                    model_rfc\n",
    "5.    Logistic Regression              model_logreg\n",
    "```"
   ]
  }
 ],
 "metadata": {
  "kernelspec": {
   "display_name": "Python 3",
   "language": "python",
   "name": "python3"
  },
  "language_info": {
   "codemirror_mode": {
    "name": "ipython",
    "version": 3
   },
   "file_extension": ".py",
   "mimetype": "text/x-python",
   "name": "python",
   "nbconvert_exporter": "python",
   "pygments_lexer": "ipython3",
   "version": "3.11.4"
  },
  "orig_nbformat": 4
 },
 "nbformat": 4,
 "nbformat_minor": 2
}
